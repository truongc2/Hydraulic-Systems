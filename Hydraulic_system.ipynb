{
 "cells": [
  {
   "cell_type": "markdown",
   "metadata": {},
   "source": [
    "# Condition Monitoring of Hydraulic Systems Data Set \n",
    "- The data set is retrieved from UCI Machine Learning Repository\n",
    "- The data set was experimentally obtained with a hydraulic test rig. This test rig consists of a primary working and a secondary cooling-filtration circuit which are connected via the oil tank. \n",
    "- The system cyclically repeats constant load cycles (duration 60 seconds) and measures **process values such as pressures, volume flows and temperatures** while the condition of four hydraulic components **(cooler, valve, pump and accumulator)** is quantitatively varied."
   ]
  },
  {
   "cell_type": "markdown",
   "metadata": {},
   "source": [
    "# Goal: Create a model to predict the target class:\n",
    "## Stable Flag \n",
    "- **0: conditions were stable**\n",
    "- **1: static conditions might not have been reached yet**\n"
   ]
  },
  {
   "cell_type": "markdown",
   "metadata": {},
   "source": [
    "## Attribute Information: \n",
    "- The data set contains raw process sensor data (i.e. without feature extraction) which are structured as matrices (tab-delimited) with the rows representing the cycles and the columns the data points within a cycle. \n",
    "\n",
    "- The sensors involved are: \n",
    "\n",
    "    ** Sensor |\tPhysical quantity|\tUnit\t|Sampling rate **\n",
    "    - PS1\tPressure\tbar\t100 Hz \n",
    "    - PS2\tPressure\tbar\t100 Hz \n",
    "    - PS3\tPressure\tbar\t100 Hz \n",
    "    - PS4\tPressure\tbar\t100 Hz \n",
    "    - PS5\tPressure\tbar\t100 Hz \n",
    "    - PS6\tPressure\tbar\t100 Hz \n",
    "    - EPS1\tMotor power\tW\t100 Hz \n",
    "    - FS1\tVolume flow\tl/min\t10 Hz \n",
    "    - FS2\tVolume flow\tl/min\t10 Hz \n",
    "    - TS1\tTemperature\tÂ°C\t1 Hz \n",
    "    - TS2\tTemperature\tÂ°C\t1 Hz \n",
    "    - TS3\tTemperature\tÂ°C\t1 Hz \n",
    "    - TS4\tTemperature\tÂ°C\t1 Hz \n",
    "    - VS1\tVibration\tmm/s\t1 Hz \n",
    "    - CE\tCooling efficiency (virtual)\t%\t1 Hz \n",
    "    - CP\tCooling power (virtual)\tkW\t1 Hz     \n",
    "    - SE\tEfficiency factor\t%\t1 Hz "
   ]
  },
  {
   "cell_type": "markdown",
   "metadata": {},
   "source": [
    "## Import Libraries"
   ]
  },
  {
   "cell_type": "code",
   "execution_count": 1,
   "metadata": {},
   "outputs": [],
   "source": [
    "import pandas as pd\n",
    "import matplotlib.pyplot as plt\n",
    "%matplotlib inline\n",
    "import seaborn as sns\n",
    "import numpy as np\n",
    "import os\n",
    "\n",
    "pd.set_option('display.max_columns', None)  # set option to view all columns "
   ]
  },
  {
   "cell_type": "code",
   "execution_count": 2,
   "metadata": {},
   "outputs": [
    {
     "data": {
      "text/plain": [
       "'/Users/RTCRichard/Desktop'"
      ]
     },
     "execution_count": 2,
     "metadata": {},
     "output_type": "execute_result"
    }
   ],
   "source": [
    "pwd() # Check the working directory"
   ]
  },
  {
   "cell_type": "code",
   "execution_count": 3,
   "metadata": {},
   "outputs": [],
   "source": [
    "path = '/Users/RTCRichard/Desktop/data' # save the path "
   ]
  },
  {
   "cell_type": "markdown",
   "metadata": {},
   "source": [
    "## Open, save and merge the files "
   ]
  },
  {
   "cell_type": "code",
   "execution_count": 4,
   "metadata": {},
   "outputs": [],
   "source": [
    "def get_file(file_name, path):\n",
    "    '''\n",
    "    A function that takes in two inputs, file_name and path, and returns an open file that is tab-delimited \n",
    "    '''\n",
    "    return pd.read_csv(os.path.join(path, file_name), sep='\\t')#, header=None)"
   ]
  },
  {
   "cell_type": "code",
   "execution_count": 5,
   "metadata": {},
   "outputs": [],
   "source": [
    "profile = get_file(path=path, file_name = 'profile.txt') # Contains the target labels: Cooler Condition, Valve Condition, Internal Pump Leakage, Hydraulic Accumulator, and Stable Flag \n",
    "# Files containing pressure data\n",
    "pressure_file1 = get_file(path=path, file_name='PS1.txt')\n",
    "pressure_file2 = get_file(path=path, file_name='PS2.txt')\n",
    "pressure_file3 = get_file(path=path, file_name='PS3.txt')\n",
    "pressure_file4 = get_file(path=path, file_name='PS4.txt')\n",
    "pressure_file5 = get_file(path=path, file_name='PS5.txt')\n",
    "pressure_file6 = get_file(path=path, file_name='PS6.txt')\n",
    "\n",
    "# Files containing temperature data\n",
    "temp_file1 = get_file(path=path, file_name='TS1.txt')\n",
    "temp_file2 = get_file(path=path, file_name='TS2.txt')\n",
    "temp_file3 = get_file(path=path, file_name='TS3.txt')\n",
    "temp_file4 = get_file(path=path, file_name='TS4.txt')\n",
    "\n",
    "# Files containing volume flow data\n",
    "vol_file1 = get_file(path=path, file_name='FS1.txt')\n",
    "vol_file2 = get_file(path=path, file_name='FS2.txt')\n",
    "\n",
    "# File containing motor power data\n",
    "motor_power_file = get_file(path=path, file_name='EPS1.txt')\n",
    "\n",
    "# File containing motor power data\n",
    "vibration_file = get_file(path=path, file_name='VS1.txt')\n",
    "\n",
    "# File containing cooling efficiency data\n",
    "cooling_eff_file = get_file(path=path, file_name='CE.txt')\n",
    "\n",
    "# File containing cooling power data\n",
    "cooling_power_file = get_file(path=path, file_name='CP.txt')\n",
    "\n",
    "# File containing efficiency factor data\n",
    "efficiency_factor_file = get_file(path=path, file_name='SE.txt')\n"
   ]
  },
  {
   "cell_type": "markdown",
   "metadata": {},
   "source": [
    "** Store the files in a dictionary**"
   ]
  },
  {
   "cell_type": "code",
   "execution_count": 6,
   "metadata": {},
   "outputs": [],
   "source": [
    "compiled_files = {'ps1':pressure_file1,'ps2':pressure_file2,'ps3':pressure_file3,'ps4':pressure_file4,\n",
    "                  'ps5':pressure_file5,'ps6':pressure_file6,'ts1':temp_file1,'ts2':temp_file2,\n",
    "                  'ts3':temp_file3,'ts4':temp_file4,'vs1':vol_file1,'vs4':vol_file2,\n",
    "                  'eps1':motor_power_file,'vs1':vibration_file,'ce':cooling_eff_file,'cp':cooling_power_file,\n",
    "                  'se':efficiency_factor_file, 'Stable Flag':profile['1']}"
   ]
  },
  {
   "cell_type": "markdown",
   "metadata": {},
   "source": [
    "** Check for null values and check the shape of the datasets **"
   ]
  },
  {
   "cell_type": "code",
   "execution_count": 7,
   "metadata": {},
   "outputs": [
    {
     "name": "stdout",
     "output_type": "stream",
     "text": [
      "number of missing values in ps1:  0\n",
      "number of missing values in ps2:  0\n",
      "number of missing values in ps3:  0\n",
      "number of missing values in ps4:  0\n",
      "number of missing values in ps5:  0\n",
      "number of missing values in ps6:  0\n",
      "number of missing values in ts1:  0\n",
      "number of missing values in ts2:  0\n",
      "number of missing values in ts3:  0\n",
      "number of missing values in ts4:  0\n",
      "number of missing values in vs1:  0\n",
      "number of missing values in vs4:  0\n",
      "number of missing values in eps1:  0\n",
      "number of missing values in ce:  0\n",
      "number of missing values in cp:  0\n",
      "number of missing values in se:  0\n",
      "number of missing values in Stable Flag:  0\n"
     ]
    }
   ],
   "source": [
    "for key,value in compiled_files.items(): # Iterate through compiled_files dictionary and print out missing values\n",
    "    print('number of missing values in {}: '.format(key), value.T.isnull().any().sum())"
   ]
  },
  {
   "cell_type": "code",
   "execution_count": 8,
   "metadata": {},
   "outputs": [
    {
     "name": "stdout",
     "output_type": "stream",
     "text": [
      "ps1 (2204, 6000)\n",
      "ps2 (2204, 6000)\n",
      "ps3 (2204, 6000)\n",
      "ps4 (2204, 6000)\n",
      "ps5 (2204, 6000)\n",
      "ps6 (2204, 6000)\n",
      "ts1 (2204, 60)\n",
      "ts2 (2204, 60)\n",
      "ts3 (2204, 60)\n",
      "ts4 (2204, 60)\n",
      "vs1 (2204, 60)\n",
      "vs4 (2204, 600)\n",
      "eps1 (2204, 6000)\n",
      "ce (2204, 60)\n",
      "cp (2204, 60)\n",
      "se (2204, 60)\n",
      "Stable Flag (2204,)\n"
     ]
    }
   ],
   "source": [
    "for file in compiled_files: # Iterate through compiled_files and print the shape.  There should be 2205 columns and varying indices. \n",
    "    print(file,compiled_files[file].shape)\n",
    "# The columns and indices are switched"
   ]
  },
  {
   "cell_type": "markdown",
   "metadata": {},
   "source": [
    "** Aggregate and manipulate the files**\n",
    "- Transpose the files so each record is a row and each instance is a column\n",
    "    - Currently, the shape of the files are **(2205,n)**. Instead, it should be **(n rows, 2205 columns)**\n",
    "- Aggregate each file by mean\n",
    "- ** i.e. ** Look at the ps1 file\n",
    "    - There are 2205 instances with 6000 records for each instance.\n",
    "    - Find the mean for each instance\n",
    "    - Save aggregated file into a dictionary"
   ]
  },
  {
   "cell_type": "code",
   "execution_count": 9,
   "metadata": {},
   "outputs": [],
   "source": [
    "averages = {} # Initialize an empty dictionary\n",
    "\n",
    "for file in compiled_files: # Iterate through compile_files\n",
    "    if file == 'Stable Flag':\n",
    "        averages[file] = compiled_files[file]\n",
    "        continue\n",
    "    averages[file] = compiled_files[file].T.mean() # Transpose the file and calculate the mean\n"
   ]
  },
  {
   "cell_type": "code",
   "execution_count": 10,
   "metadata": {},
   "outputs": [],
   "source": [
    "sensor_data = pd.concat(averages, axis=1,ignore_index=False) # Concatenate the files in the averages dictionary \n"
   ]
  },
  {
   "cell_type": "markdown",
   "metadata": {},
   "source": [
    "## Data Description\n",
    "- After preprocessing, sensor_data should have:\n",
    "    - no null values \n",
    "    - 17 columns and 2205 rows\n",
    "    - The target class is 'Stable Flag'\n",
    "    - Stable Flag should be an integer\n",
    "    - All other columns should be floats"
   ]
  },
  {
   "cell_type": "code",
   "execution_count": 11,
   "metadata": {},
   "outputs": [
    {
     "name": "stdout",
     "output_type": "stream",
     "text": [
      "<class 'pandas.core.frame.DataFrame'>\n",
      "RangeIndex: 2204 entries, 0 to 2203\n",
      "Data columns (total 17 columns):\n",
      "Stable Flag    2204 non-null int64\n",
      "ce             2204 non-null float64\n",
      "cp             2204 non-null float64\n",
      "eps1           2204 non-null float64\n",
      "ps1            2204 non-null float64\n",
      "ps2            2204 non-null float64\n",
      "ps3            2204 non-null float64\n",
      "ps4            2204 non-null float64\n",
      "ps5            2204 non-null float64\n",
      "ps6            2204 non-null float64\n",
      "se             2204 non-null float64\n",
      "ts1            2204 non-null float64\n",
      "ts2            2204 non-null float64\n",
      "ts3            2204 non-null float64\n",
      "ts4            2204 non-null float64\n",
      "vs1            2204 non-null float64\n",
      "vs4            2204 non-null float64\n",
      "dtypes: float64(16), int64(1)\n",
      "memory usage: 292.8 KB\n"
     ]
    }
   ],
   "source": [
    "sensor_data.info()"
   ]
  },
  {
   "cell_type": "code",
   "execution_count": 12,
   "metadata": {},
   "outputs": [
    {
     "data": {
      "text/plain": [
       "(2204, 17)"
      ]
     },
     "execution_count": 12,
     "metadata": {},
     "output_type": "execute_result"
    }
   ],
   "source": [
    "sensor_data.shape # returns the dimensionality of the dataframe"
   ]
  },
  {
   "cell_type": "code",
   "execution_count": 13,
   "metadata": {},
   "outputs": [
    {
     "data": {
      "text/plain": [
       "0    1449\n",
       "1     755\n",
       "Name: Stable Flag, dtype: int64"
      ]
     },
     "execution_count": 13,
     "metadata": {},
     "output_type": "execute_result"
    }
   ],
   "source": [
    "sensor_data['Stable Flag'].value_counts() # Calculate the count for each unique value\n"
   ]
  },
  {
   "attachments": {},
   "cell_type": "markdown",
   "metadata": {},
   "source": [
    "## Exploratory Data Analysis\n",
    "- **Outlier and missing value detection**\n",
    "    - To detect outliers, I plotted each attribute using a boxplot. I found that there are many outliers especially in **eps1, ps1,ps2, ps3, ps4, se, and vs1**. However, I chose to keep the outliers because the number of datapoints is relatively small and there would be a loss of variability if the few oultiers were lost. \n",
    "    - There were no missing values.  But if there were missing values, I would look at the distribution of the datapoints and see if I should either throw away all the indexes with missing values or impute the values with mean, median, or the mode."
   ]
  },
  {
   "cell_type": "code",
   "execution_count": 14,
   "metadata": {},
   "outputs": [
    {
     "data": {
      "text/html": [
       "<div>\n",
       "<style scoped>\n",
       "    .dataframe tbody tr th:only-of-type {\n",
       "        vertical-align: middle;\n",
       "    }\n",
       "\n",
       "    .dataframe tbody tr th {\n",
       "        vertical-align: top;\n",
       "    }\n",
       "\n",
       "    .dataframe thead th {\n",
       "        text-align: right;\n",
       "    }\n",
       "</style>\n",
       "<table border=\"1\" class=\"dataframe\">\n",
       "  <thead>\n",
       "    <tr style=\"text-align: right;\">\n",
       "      <th></th>\n",
       "      <th>Stable Flag</th>\n",
       "      <th>ce</th>\n",
       "      <th>cp</th>\n",
       "      <th>eps1</th>\n",
       "      <th>ps1</th>\n",
       "      <th>ps2</th>\n",
       "      <th>ps3</th>\n",
       "      <th>ps4</th>\n",
       "      <th>ps5</th>\n",
       "      <th>ps6</th>\n",
       "      <th>se</th>\n",
       "      <th>ts1</th>\n",
       "      <th>ts2</th>\n",
       "      <th>ts3</th>\n",
       "      <th>ts4</th>\n",
       "      <th>vs1</th>\n",
       "      <th>vs4</th>\n",
       "    </tr>\n",
       "  </thead>\n",
       "  <tbody>\n",
       "    <tr>\n",
       "      <th>count</th>\n",
       "      <td>2204.000000</td>\n",
       "      <td>2204.000000</td>\n",
       "      <td>2204.000000</td>\n",
       "      <td>2204.000000</td>\n",
       "      <td>2204.000000</td>\n",
       "      <td>2204.000000</td>\n",
       "      <td>2204.000000</td>\n",
       "      <td>2204.000000</td>\n",
       "      <td>2204.000000</td>\n",
       "      <td>2204.000000</td>\n",
       "      <td>2204.000000</td>\n",
       "      <td>2204.000000</td>\n",
       "      <td>2204.000000</td>\n",
       "      <td>2204.000000</td>\n",
       "      <td>2204.000000</td>\n",
       "      <td>2204.000000</td>\n",
       "      <td>2204.000000</td>\n",
       "    </tr>\n",
       "    <tr>\n",
       "      <th>mean</th>\n",
       "      <td>0.342559</td>\n",
       "      <td>31.295310</td>\n",
       "      <td>1.808374</td>\n",
       "      <td>2495.489502</td>\n",
       "      <td>160.485229</td>\n",
       "      <td>109.379867</td>\n",
       "      <td>1.753119</td>\n",
       "      <td>2.601446</td>\n",
       "      <td>9.163012</td>\n",
       "      <td>9.079068</td>\n",
       "      <td>55.286144</td>\n",
       "      <td>45.429014</td>\n",
       "      <td>50.370238</td>\n",
       "      <td>47.666292</td>\n",
       "      <td>40.739733</td>\n",
       "      <td>0.613332</td>\n",
       "      <td>9.649156</td>\n",
       "    </tr>\n",
       "    <tr>\n",
       "      <th>std</th>\n",
       "      <td>0.474673</td>\n",
       "      <td>11.576605</td>\n",
       "      <td>0.278323</td>\n",
       "      <td>73.847642</td>\n",
       "      <td>4.700489</td>\n",
       "      <td>4.987717</td>\n",
       "      <td>0.251908</td>\n",
       "      <td>4.279967</td>\n",
       "      <td>0.576246</td>\n",
       "      <td>0.549540</td>\n",
       "      <td>8.961843</td>\n",
       "      <td>7.991017</td>\n",
       "      <td>7.395228</td>\n",
       "      <td>7.451005</td>\n",
       "      <td>8.107455</td>\n",
       "      <td>0.060268</td>\n",
       "      <td>0.449131</td>\n",
       "    </tr>\n",
       "    <tr>\n",
       "      <th>min</th>\n",
       "      <td>0.000000</td>\n",
       "      <td>17.555983</td>\n",
       "      <td>1.062150</td>\n",
       "      <td>2361.747267</td>\n",
       "      <td>155.391547</td>\n",
       "      <td>104.406307</td>\n",
       "      <td>0.840252</td>\n",
       "      <td>0.000000</td>\n",
       "      <td>8.365800</td>\n",
       "      <td>8.321527</td>\n",
       "      <td>18.276617</td>\n",
       "      <td>35.313783</td>\n",
       "      <td>40.859400</td>\n",
       "      <td>38.245733</td>\n",
       "      <td>30.390800</td>\n",
       "      <td>0.524367</td>\n",
       "      <td>8.857513</td>\n",
       "    </tr>\n",
       "    <tr>\n",
       "      <th>25%</th>\n",
       "      <td>0.000000</td>\n",
       "      <td>20.084075</td>\n",
       "      <td>1.550063</td>\n",
       "      <td>2442.925225</td>\n",
       "      <td>158.100135</td>\n",
       "      <td>106.961874</td>\n",
       "      <td>1.729733</td>\n",
       "      <td>0.000000</td>\n",
       "      <td>8.547152</td>\n",
       "      <td>8.487017</td>\n",
       "      <td>56.269371</td>\n",
       "      <td>36.237362</td>\n",
       "      <td>41.864471</td>\n",
       "      <td>39.123633</td>\n",
       "      <td>31.271787</td>\n",
       "      <td>0.555096</td>\n",
       "      <td>9.203254</td>\n",
       "    </tr>\n",
       "    <tr>\n",
       "      <th>50%</th>\n",
       "      <td>0.000000</td>\n",
       "      <td>27.391500</td>\n",
       "      <td>1.739608</td>\n",
       "      <td>2480.921533</td>\n",
       "      <td>158.959798</td>\n",
       "      <td>107.728562</td>\n",
       "      <td>1.779622</td>\n",
       "      <td>0.000000</td>\n",
       "      <td>9.115681</td>\n",
       "      <td>9.031103</td>\n",
       "      <td>58.757900</td>\n",
       "      <td>44.837775</td>\n",
       "      <td>49.781508</td>\n",
       "      <td>47.070275</td>\n",
       "      <td>40.429167</td>\n",
       "      <td>0.610192</td>\n",
       "      <td>9.692160</td>\n",
       "    </tr>\n",
       "    <tr>\n",
       "      <th>75%</th>\n",
       "      <td>1.000000</td>\n",
       "      <td>46.677558</td>\n",
       "      <td>2.148483</td>\n",
       "      <td>2548.221625</td>\n",
       "      <td>161.000767</td>\n",
       "      <td>109.421433</td>\n",
       "      <td>1.932045</td>\n",
       "      <td>3.505464</td>\n",
       "      <td>9.844362</td>\n",
       "      <td>9.729312</td>\n",
       "      <td>59.657925</td>\n",
       "      <td>54.104417</td>\n",
       "      <td>58.585900</td>\n",
       "      <td>55.695183</td>\n",
       "      <td>49.410421</td>\n",
       "      <td>0.649900</td>\n",
       "      <td>10.154948</td>\n",
       "    </tr>\n",
       "    <tr>\n",
       "      <th>max</th>\n",
       "      <td>1.000000</td>\n",
       "      <td>47.903667</td>\n",
       "      <td>2.840100</td>\n",
       "      <td>2740.641000</td>\n",
       "      <td>180.922708</td>\n",
       "      <td>131.589089</td>\n",
       "      <td>2.023398</td>\n",
       "      <td>10.207068</td>\n",
       "      <td>9.978510</td>\n",
       "      <td>9.856591</td>\n",
       "      <td>60.755300</td>\n",
       "      <td>57.899283</td>\n",
       "      <td>61.958467</td>\n",
       "      <td>59.423167</td>\n",
       "      <td>53.060417</td>\n",
       "      <td>0.839067</td>\n",
       "      <td>10.403098</td>\n",
       "    </tr>\n",
       "  </tbody>\n",
       "</table>\n",
       "</div>"
      ],
      "text/plain": [
       "       Stable Flag           ce           cp         eps1          ps1  \\\n",
       "count  2204.000000  2204.000000  2204.000000  2204.000000  2204.000000   \n",
       "mean      0.342559    31.295310     1.808374  2495.489502   160.485229   \n",
       "std       0.474673    11.576605     0.278323    73.847642     4.700489   \n",
       "min       0.000000    17.555983     1.062150  2361.747267   155.391547   \n",
       "25%       0.000000    20.084075     1.550063  2442.925225   158.100135   \n",
       "50%       0.000000    27.391500     1.739608  2480.921533   158.959798   \n",
       "75%       1.000000    46.677558     2.148483  2548.221625   161.000767   \n",
       "max       1.000000    47.903667     2.840100  2740.641000   180.922708   \n",
       "\n",
       "               ps2          ps3          ps4          ps5          ps6  \\\n",
       "count  2204.000000  2204.000000  2204.000000  2204.000000  2204.000000   \n",
       "mean    109.379867     1.753119     2.601446     9.163012     9.079068   \n",
       "std       4.987717     0.251908     4.279967     0.576246     0.549540   \n",
       "min     104.406307     0.840252     0.000000     8.365800     8.321527   \n",
       "25%     106.961874     1.729733     0.000000     8.547152     8.487017   \n",
       "50%     107.728562     1.779622     0.000000     9.115681     9.031103   \n",
       "75%     109.421433     1.932045     3.505464     9.844362     9.729312   \n",
       "max     131.589089     2.023398    10.207068     9.978510     9.856591   \n",
       "\n",
       "                se          ts1          ts2          ts3          ts4  \\\n",
       "count  2204.000000  2204.000000  2204.000000  2204.000000  2204.000000   \n",
       "mean     55.286144    45.429014    50.370238    47.666292    40.739733   \n",
       "std       8.961843     7.991017     7.395228     7.451005     8.107455   \n",
       "min      18.276617    35.313783    40.859400    38.245733    30.390800   \n",
       "25%      56.269371    36.237362    41.864471    39.123633    31.271787   \n",
       "50%      58.757900    44.837775    49.781508    47.070275    40.429167   \n",
       "75%      59.657925    54.104417    58.585900    55.695183    49.410421   \n",
       "max      60.755300    57.899283    61.958467    59.423167    53.060417   \n",
       "\n",
       "               vs1          vs4  \n",
       "count  2204.000000  2204.000000  \n",
       "mean      0.613332     9.649156  \n",
       "std       0.060268     0.449131  \n",
       "min       0.524367     8.857513  \n",
       "25%       0.555096     9.203254  \n",
       "50%       0.610192     9.692160  \n",
       "75%       0.649900    10.154948  \n",
       "max       0.839067    10.403098  "
      ]
     },
     "execution_count": 14,
     "metadata": {},
     "output_type": "execute_result"
    }
   ],
   "source": [
    "sensor_data.describe()"
   ]
  },
  {
   "cell_type": "code",
   "execution_count": 15,
   "metadata": {},
   "outputs": [
    {
     "data": {
      "text/plain": [
       "<matplotlib.figure.Figure at 0x1a11263d68>"
      ]
     },
     "execution_count": 15,
     "metadata": {},
     "output_type": "execute_result"
    },
    {
     "data": {
      "image/png": "[encoded data removed]",
      "text/plain": [
       "<matplotlib.figure.Figure at 0x10a0840f0>"
      ]
     },
     "metadata": {},
     "output_type": "display_data"
    },
    {
     "data": {
      "text/plain": [
       "<matplotlib.figure.Figure at 0x1a11263d68>"
      ]
     },
     "metadata": {},
     "output_type": "display_data"
    }
   ],
   "source": [
    "sensor_data.drop('Stable Flag',axis=1).plot(kind='box', subplots=True, grid=True, title=\"Attribute Boxplots\",\n",
    "        layout=(5, 5), sharex=True, sharey=False, legend=True, figsize = (15,15))\n",
    "\n",
    "plt.figure('tight')"
   ]
  },
  {
   "cell_type": "code",
   "execution_count": 16,
   "metadata": {},
   "outputs": [
    {
     "data": {
      "text/plain": [
       "<matplotlib.axes._subplots.AxesSubplot at 0x1a133bdcf8>"
      ]
     },
     "execution_count": 16,
     "metadata": {},
     "output_type": "execute_result"
    },
    {
     "data": {
      "image/png": "[encoded data removed]",
      "text/plain": [
       "<matplotlib.figure.Figure at 0x1a11262cf8>"
      ]
     },
     "metadata": {},
     "output_type": "display_data"
    }
   ],
   "source": [
    "plt.figure(figsize = (15,10)) # Creates a blank figure with dimensions (15,10)\n",
    "correlations = sensor_data.drop('Stable Flag',axis=1).corr() # Remove the target class and calcualte the correlations between each variable\n",
    "sns.heatmap(correlations,cmap = 'viridis',annot=True) # Create a heatmap with the correlations listed \n"
   ]
  },
  {
   "cell_type": "markdown",
   "metadata": {},
   "source": [
    "## Model Fitting\n",
    "- **Split samples into training/test sets**\n",
    "    - The data will be split into training and test sets. The training set contains known outputs and the model is fitted with this data. However, the test set is a subset of the data that is used to test the model's prediction.\n",
    "    - The training set will be composed with 70% of the total data and the test set will be 30% of the data.\n",
    " "
   ]
  },
  {
   "cell_type": "code",
   "execution_count": 17,
   "metadata": {},
   "outputs": [],
   "source": [
    "from sklearn.model_selection import train_test_split"
   ]
  },
  {
   "cell_type": "code",
   "execution_count": 18,
   "metadata": {},
   "outputs": [],
   "source": [
    "X = sensor_data.drop('Stable Flag', axis=1) # Save the dataset with the 'Stable Flag' excluded\n",
    "y = sensor_data['Stable Flag']# Save the 'Stable Flag' feature (Target Feature)"
   ]
  },
  {
   "cell_type": "code",
   "execution_count": 19,
   "metadata": {},
   "outputs": [],
   "source": [
    "X_train, X_test, y_train, y_test = train_test_split(X, y, test_size=0.3, random_state=42)\n",
    "# Split the data into train, test, and validation sets.\n",
    "# test_size is set to 0.33 or 33% of the data.\n",
    "# random_state is set to 42 to gurantee that the output would be the same for each run"
   ]
  },
  {
   "cell_type": "markdown",
   "metadata": {},
   "source": [
    "## Random Forest\n",
    "- Random Forest was chosen because it is robust against outliers and is a good standard for quick classification while providing high accuracy\n",
    "- Overfitting can be prevented with a high number of trees."
   ]
  },
  {
   "cell_type": "code",
   "execution_count": 20,
   "metadata": {},
   "outputs": [],
   "source": [
    "from sklearn.ensemble import RandomForestClassifier\n",
    "from sklearn.metrics import classification_report,confusion_matrix"
   ]
  },
  {
   "cell_type": "code",
   "execution_count": 21,
   "metadata": {},
   "outputs": [
    {
     "name": "stdout",
     "output_type": "stream",
     "text": [
      "             precision    recall  f1-score   support\n",
      "\n",
      "          0       0.97      1.00      0.99       448\n",
      "          1       1.00      0.94      0.97       214\n",
      "\n",
      "avg / total       0.98      0.98      0.98       662\n",
      "\n",
      "[[447   1]\n",
      " [ 12 202]]\n"
     ]
    }
   ],
   "source": [
    "rfc = RandomForestClassifier(n_estimators=600) # Instantiate the model with 600 estimators.\n",
    "rfc.fit(X_train,y_train) # Fit the model using the training data\n",
    "predictions = rfc.predict(X_test) # Create predictions based on the test set\n",
    "print(classification_report(y_test,predictions))\n",
    "print(confusion_matrix(y_test,predictions))"
   ]
  },
  {
   "cell_type": "markdown",
   "metadata": {},
   "source": [
    "## Logistic Regression\n",
    "- The Target class, Stable Flag, is binary (0,1).  \n",
    "- Since logistic regression is a sigmoid function, the decision boundary can be set to 0.5 where any value less than 0.5 would be classified as 0 and any value larger than 0.5 would classify to 1.\n",
    "- The dataset contains multiple outliers. Logistic regression does not penalize outliers as much as in other models, i.e. linear regression.  \n",
    "    - The cross-entropy function penalizes wrong predictions more than it rewards right predictions."
   ]
  },
  {
   "cell_type": "code",
   "execution_count": 22,
   "metadata": {},
   "outputs": [],
   "source": [
    "from sklearn.linear_model import LogisticRegression"
   ]
  },
  {
   "cell_type": "code",
   "execution_count": 23,
   "metadata": {},
   "outputs": [],
   "source": [
    "logmodel = LogisticRegression() # Instantiate the model\n",
    "logmodel.fit(X_train,y_train) # Fit the model using the training data\n",
    "predictions = logmodel.predict(X_test) # Create predictions based on the test set"
   ]
  },
  {
   "cell_type": "code",
   "execution_count": 24,
   "metadata": {},
   "outputs": [
    {
     "name": "stdout",
     "output_type": "stream",
     "text": [
      "             precision    recall  f1-score   support\n",
      "\n",
      "          0       0.96      0.91      0.93       448\n",
      "          1       0.82      0.91      0.86       214\n",
      "\n",
      "avg / total       0.91      0.91      0.91       662\n",
      "\n",
      "[[406  42]\n",
      " [ 19 195]]\n"
     ]
    }
   ],
   "source": [
    "print(classification_report(y_test,predictions))\n",
    "print(confusion_matrix(y_test,predictions))"
   ]
  },
  {
   "cell_type": "markdown",
   "metadata": {},
   "source": [
    "## k-Nearest Neighbors\n",
    "- KNN is non-parametric so it makes no assumptions about the data distribution.\n",
    "- The dataset is relatively small so computation time is negligible.\n",
    "- Outliers will be far away points and have lower probability of being selected."
   ]
  },
  {
   "cell_type": "markdown",
   "metadata": {},
   "source": [
    "** Standarize the data**\n",
    "- Because the KNN classifier predicts the class of a given test observation by identifying the observations that are nearest to it, the scale of the variables matters. Any variables that are on a large scale will have a much larger effect on the distance between the observations, and hence on the KNN classifier, than variables that are on a small scale."
   ]
  },
  {
   "cell_type": "code",
   "execution_count": 25,
   "metadata": {},
   "outputs": [
    {
     "data": {
      "text/plain": [
       "StandardScaler(copy=True, with_mean=True, with_std=True)"
      ]
     },
     "execution_count": 25,
     "metadata": {},
     "output_type": "execute_result"
    }
   ],
   "source": [
    "from sklearn.preprocessing import StandardScaler # import StandardScaler \n",
    "scaler = StandardScaler() #Instantiate the scaler \n",
    "scaler.fit(sensor_data.drop('Stable Flag', axis=1)) # fit the model to sensor_data with the 'Stable Flag' column removed"
   ]
  },
  {
   "cell_type": "code",
   "execution_count": 26,
   "metadata": {},
   "outputs": [],
   "source": [
    "# transform the data and save it to scaled_features\n",
    "scaled_features = scaler.transform(sensor_data.drop('Stable Flag', axis=1))"
   ]
  },
  {
   "cell_type": "code",
   "execution_count": 27,
   "metadata": {},
   "outputs": [
    {
     "data": {
      "text/html": [
       "<div>\n",
       "<style scoped>\n",
       "    .dataframe tbody tr th:only-of-type {\n",
       "        vertical-align: middle;\n",
       "    }\n",
       "\n",
       "    .dataframe tbody tr th {\n",
       "        vertical-align: top;\n",
       "    }\n",
       "\n",
       "    .dataframe thead th {\n",
       "        text-align: right;\n",
       "    }\n",
       "</style>\n",
       "<table border=\"1\" class=\"dataframe\">\n",
       "  <thead>\n",
       "    <tr style=\"text-align: right;\">\n",
       "      <th></th>\n",
       "      <th>ce</th>\n",
       "      <th>cp</th>\n",
       "      <th>eps1</th>\n",
       "      <th>ps1</th>\n",
       "      <th>ps2</th>\n",
       "      <th>ps3</th>\n",
       "      <th>ps4</th>\n",
       "      <th>ps5</th>\n",
       "      <th>ps6</th>\n",
       "      <th>se</th>\n",
       "      <th>ts1</th>\n",
       "      <th>ts2</th>\n",
       "      <th>ts3</th>\n",
       "      <th>ts4</th>\n",
       "      <th>vs1</th>\n",
       "      <th>vs4</th>\n",
       "    </tr>\n",
       "  </thead>\n",
       "  <tbody>\n",
       "    <tr>\n",
       "      <th>0</th>\n",
       "      <td>-0.475971</td>\n",
       "      <td>-1.986715</td>\n",
       "      <td>0.487728</td>\n",
       "      <td>0.025129</td>\n",
       "      <td>-0.005009</td>\n",
       "      <td>0.885902</td>\n",
       "      <td>-0.607957</td>\n",
       "      <td>0.819507</td>\n",
       "      <td>0.819816</td>\n",
       "      <td>0.451960</td>\n",
       "      <td>-1.095484</td>\n",
       "      <td>-1.195295</td>\n",
       "      <td>-1.166191</td>\n",
       "      <td>-0.770560</td>\n",
       "      <td>-0.788018</td>\n",
       "      <td>1.679052</td>\n",
       "    </tr>\n",
       "    <tr>\n",
       "      <th>1</th>\n",
       "      <td>-0.784266</td>\n",
       "      <td>-2.498227</td>\n",
       "      <td>0.331006</td>\n",
       "      <td>-0.029261</td>\n",
       "      <td>-0.044323</td>\n",
       "      <td>0.869979</td>\n",
       "      <td>-0.607957</td>\n",
       "      <td>0.637956</td>\n",
       "      <td>0.635003</td>\n",
       "      <td>0.475122</td>\n",
       "      <td>-0.944802</td>\n",
       "      <td>-1.072257</td>\n",
       "      <td>-1.078534</td>\n",
       "      <td>-0.628402</td>\n",
       "      <td>-0.610716</td>\n",
       "      <td>1.596990</td>\n",
       "    </tr>\n",
       "    <tr>\n",
       "      <th>2</th>\n",
       "      <td>-0.936194</td>\n",
       "      <td>-2.681748</td>\n",
       "      <td>0.217418</td>\n",
       "      <td>-0.063229</td>\n",
       "      <td>-0.063181</td>\n",
       "      <td>0.768138</td>\n",
       "      <td>-0.607957</td>\n",
       "      <td>0.478749</td>\n",
       "      <td>0.470247</td>\n",
       "      <td>0.503220</td>\n",
       "      <td>-0.819852</td>\n",
       "      <td>-0.942207</td>\n",
       "      <td>-0.974977</td>\n",
       "      <td>-0.513257</td>\n",
       "      <td>-0.731315</td>\n",
       "      <td>1.455414</td>\n",
       "    </tr>\n",
       "    <tr>\n",
       "      <th>3</th>\n",
       "      <td>-0.994325</td>\n",
       "      <td>-2.651860</td>\n",
       "      <td>0.107814</td>\n",
       "      <td>-0.103153</td>\n",
       "      <td>-0.089928</td>\n",
       "      <td>0.673366</td>\n",
       "      <td>-0.607957</td>\n",
       "      <td>0.339776</td>\n",
       "      <td>0.330474</td>\n",
       "      <td>0.465314</td>\n",
       "      <td>-0.704087</td>\n",
       "      <td>-0.816588</td>\n",
       "      <td>-0.853198</td>\n",
       "      <td>-0.408585</td>\n",
       "      <td>-0.596885</td>\n",
       "      <td>1.310816</td>\n",
       "    </tr>\n",
       "    <tr>\n",
       "      <th>4</th>\n",
       "      <td>-1.049391</td>\n",
       "      <td>-2.646050</td>\n",
       "      <td>0.074732</td>\n",
       "      <td>-0.120232</td>\n",
       "      <td>-0.098702</td>\n",
       "      <td>0.635953</td>\n",
       "      <td>-0.607957</td>\n",
       "      <td>0.239792</td>\n",
       "      <td>0.232626</td>\n",
       "      <td>0.477375</td>\n",
       "      <td>-0.597001</td>\n",
       "      <td>-0.703264</td>\n",
       "      <td>-0.743985</td>\n",
       "      <td>-0.311841</td>\n",
       "      <td>-0.674611</td>\n",
       "      <td>1.179355</td>\n",
       "    </tr>\n",
       "  </tbody>\n",
       "</table>\n",
       "</div>"
      ],
      "text/plain": [
       "         ce        cp      eps1       ps1       ps2       ps3       ps4  \\\n",
       "0 -0.475971 -1.986715  0.487728  0.025129 -0.005009  0.885902 -0.607957   \n",
       "1 -0.784266 -2.498227  0.331006 -0.029261 -0.044323  0.869979 -0.607957   \n",
       "2 -0.936194 -2.681748  0.217418 -0.063229 -0.063181  0.768138 -0.607957   \n",
       "3 -0.994325 -2.651860  0.107814 -0.103153 -0.089928  0.673366 -0.607957   \n",
       "4 -1.049391 -2.646050  0.074732 -0.120232 -0.098702  0.635953 -0.607957   \n",
       "\n",
       "        ps5       ps6        se       ts1       ts2       ts3       ts4  \\\n",
       "0  0.819507  0.819816  0.451960 -1.095484 -1.195295 -1.166191 -0.770560   \n",
       "1  0.637956  0.635003  0.475122 -0.944802 -1.072257 -1.078534 -0.628402   \n",
       "2  0.478749  0.470247  0.503220 -0.819852 -0.942207 -0.974977 -0.513257   \n",
       "3  0.339776  0.330474  0.465314 -0.704087 -0.816588 -0.853198 -0.408585   \n",
       "4  0.239792  0.232626  0.477375 -0.597001 -0.703264 -0.743985 -0.311841   \n",
       "\n",
       "        vs1       vs4  \n",
       "0 -0.788018  1.679052  \n",
       "1 -0.610716  1.596990  \n",
       "2 -0.731315  1.455414  \n",
       "3 -0.596885  1.310816  \n",
       "4 -0.674611  1.179355  "
      ]
     },
     "execution_count": 27,
     "metadata": {},
     "output_type": "execute_result"
    }
   ],
   "source": [
    "df_feat = pd.DataFrame(scaled_features,columns=sensor_data.columns[1:]) # create a dataframe of the features and slice off the 'Stable Flag' Columns\n",
    "df_feat.head() # Look at the first 5 entries in df_feat"
   ]
  },
  {
   "cell_type": "markdown",
   "metadata": {},
   "source": [
    "** Train, test, and split the the scaled_features**"
   ]
  },
  {
   "cell_type": "code",
   "execution_count": 28,
   "metadata": {},
   "outputs": [],
   "source": [
    "X = scaled_features # Save the scaled features as X\n",
    "y = sensor_data['Stable Flag'] # Save the target class as y\n",
    "X_train, X_test, y_train, y_test = train_test_split(X,y,test_size=0.30) # Spit data into train and test sets. The test size should be 30% of the data and the train size should be 70% of the data.\n"
   ]
  },
  {
   "cell_type": "code",
   "execution_count": 29,
   "metadata": {},
   "outputs": [],
   "source": [
    "from sklearn.neighbors import KNeighborsClassifier # Import the KNeighborsClassifier model\n",
    "knn = KNeighborsClassifier(n_neighbors=1) # Instantiate the model with the 1 neighbor\n",
    "knn.fit(X_train,y_train) # Fit the training set\n",
    "pred = knn.predict(X_test) # Make predictions based on the test set"
   ]
  },
  {
   "cell_type": "code",
   "execution_count": 30,
   "metadata": {},
   "outputs": [
    {
     "name": "stdout",
     "output_type": "stream",
     "text": [
      "[[419   5]\n",
      " [ 17 221]]\n",
      "             precision    recall  f1-score   support\n",
      "\n",
      "          0       0.96      0.99      0.97       424\n",
      "          1       0.98      0.93      0.95       238\n",
      "\n",
      "avg / total       0.97      0.97      0.97       662\n",
      "\n"
     ]
    }
   ],
   "source": [
    "print(confusion_matrix(y_test,pred))\n",
    "print(classification_report(y_test,pred))"
   ]
  },
  {
   "cell_type": "markdown",
   "metadata": {},
   "source": [
    "## Choosing a K value\n",
    "- Use **elbow method** to pick a good K value that minimizes the error rate."
   ]
  },
  {
   "cell_type": "code",
   "execution_count": 31,
   "metadata": {},
   "outputs": [],
   "source": [
    "error_rate = [] # Initialize error_rate with an empty list. \n",
    "\n",
    "for i in range(1,20):  # Iterate from range 1 to 20 to find the best number of neighbors that minimizes the K value\n",
    "    knn = KNeighborsClassifier(n_neighbors=i) # Instantiate the classifier and set neighbors to the vlaue of the iterator\n",
    "    knn.fit(X_train,y_train) # Fit the model with the training sets\n",
    "    pred_i = knn.predict(X_test) # Predict on the target set.\n",
    "    error_rate.append(np.mean(pred_i != y_test)) # Calculate the error rate and append it to the error_rate list"
   ]
  },
  {
   "cell_type": "code",
   "execution_count": 32,
   "metadata": {},
   "outputs": [
    {
     "data": {
      "text/plain": [
       "Text(0,0.5,'Error Rate')"
      ]
     },
     "execution_count": 32,
     "metadata": {},
     "output_type": "execute_result"
    },
    {
     "data": {
      "image/png": "[encoded data removed]",
      "text/plain": [
       "<matplotlib.figure.Figure at 0x1a3b8c09b0>"
      ]
     },
     "metadata": {},
     "output_type": "display_data"
    }
   ],
   "source": [
    "plt.figure(figsize=(10,6)) # Create a blank figure\n",
    "plt.plot(range(1,20),error_rate,color='blue', linestyle='dashed', marker='o', markerfacecolor='red', markersize=10) #\n",
    "plt.title('Error Rate vs. K Value')\n",
    "plt.xlabel('K')\n",
    "plt.ylabel('Error Rate')"
   ]
  },
  {
   "cell_type": "markdown",
   "metadata": {},
   "source": [
    "** K value of 1 and 5 have the lowest error rates. **"
   ]
  },
  {
   "cell_type": "markdown",
   "metadata": {},
   "source": [
    "# Conclusion\n",
    "\n",
    "- Based on the models and features, we are able to predict Stable Flag, with a high level of accuracy (f1-score > 0.90 in all models).  \n",
    "- Specifically, the random forest and KNN Model had the highest accuracies, f1-score of 0.98 and 0.96, respectively. \n"
   ]
  }
 ],
 "metadata": {
  "kernelspec": {
   "display_name": "Python 3",
   "language": "python",
   "name": "python3"
  },
  "language_info": {
   "codemirror_mode": {
    "name": "ipython",
    "version": 3
   },
   "file_extension": ".py",
   "mimetype": "text/x-python",
   "name": "python",
   "nbconvert_exporter": "python",
   "pygments_lexer": "ipython3",
   "version": "3.6.4"
  }
 },
 "nbformat": 4,
 "nbformat_minor": 2
}
